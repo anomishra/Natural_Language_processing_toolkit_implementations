{
  "nbformat": 4,
  "nbformat_minor": 0,
  "metadata": {
    "colab": {
      "name": "nltk_chapter3.ipynb",
      "version": "0.3.2",
      "provenance": [],
      "collapsed_sections": []
    },
    "kernelspec": {
      "name": "python3",
      "display_name": "Python 3"
    },
    "accelerator": "TPU"
  },
  "cells": [
    {
      "metadata": {
        "id": "6N3NAccUwqJi",
        "colab_type": "code",
        "colab": {}
      },
      "cell_type": "code",
      "source": [
        "import nltk\n",
        "nltk.download()"
      ],
      "execution_count": 0,
      "outputs": []
    },
    {
      "metadata": {
        "id": "Q0zJE539xZuv",
        "colab_type": "code",
        "colab": {}
      },
      "cell_type": "code",
      "source": [
        "from __future__ import division\n",
        "import nltk,re, pprint\n",
        "from urllib import request\n",
        "from urllib.request import urlopen\n",
        "\n",
        "from nltk import book\n",
        "\n",
        "from nltk.corpus import gutenberg\n",
        "from nltk.corpus import brown\n",
        "from nltk.corpus import wordnet as wn\n",
        "from nltk.corpus import words"
      ],
      "execution_count": 0,
      "outputs": []
    },
    {
      "metadata": {
        "id": "wSt6KFA9xfn9",
        "colab_type": "code",
        "colab": {}
      },
      "cell_type": "code",
      "source": [
        "SimpleText = 'One day, his horse ran away. The neighbors came to express their concern: \"Oh, that\\'s too bad. How are you going to work the fields now?\" The farmer replied: \"Good thing, Bad thing, Who knows?\" In a few days, his horse came back and brought another horse with her. Now, the neighbors were glad: \"Oh, how lucky! Now you can do twice as much work as before!\" The farmer replied: \"Good thing, Bad thing, Who knows?\"'\n"
      ],
      "execution_count": 0,
      "outputs": []
    },
    {
      "metadata": {
        "id": "elmMZ3Jjxtvc",
        "colab_type": "code",
        "colab": {
          "base_uri": "https://localhost:8080/",
          "height": 190
        },
        "outputId": "8a1ae60e-07c6-49ad-8511-4fc2288fdf73"
      },
      "cell_type": "code",
      "source": [
        "def exercise6():\n",
        "    print(\"part b - start with upper case and then with lower case\")\n",
        "    print(nltk.re_show(r'[A-Z][a-z]*',SimpleText))\n",
        "    print(\"part c - start with 'p' and ends with 't' and vowels can be inserted between {,2}\")\n",
        "    print(nltk.re_show(r'p[aeiou]{,2}t',SimpleText))\n",
        "    print(\"part f - Atlest once,non space chareacters are repeated\")\n",
        "    print(nltk.re_show(r'\\w+|[^\\w\\s]+',SimpleText))\n",
        "\n",
        "exercise6()"
      ],
      "execution_count": 15,
      "outputs": [
        {
          "output_type": "stream",
          "text": [
            "part b - start with upper case and then with lower case\n",
            "{One} day, his horse ran away. {The} neighbors came to express their concern: \"{Oh}, that's too bad. {How} are you going to work the fields now?\" {The} farmer replied: \"{Good} thing, {Bad} thing, {Who} knows?\" {In} a few days, his horse came back and brought another horse with her. {Now}, the neighbors were glad: \"{Oh}, how lucky! {Now} you can do twice as much work as before!\" {The} farmer replied: \"{Good} thing, {Bad} thing, {Who} knows?\"\n",
            "None\n",
            "part c - start with 'p' and ends with 't' and vowels can be inserted between {,2}\n",
            "One day, his horse ran away. The neighbors came to express their concern: \"Oh, that's too bad. How are you going to work the fields now?\" The farmer replied: \"Good thing, Bad thing, Who knows?\" In a few days, his horse came back and brought another horse with her. Now, the neighbors were glad: \"Oh, how lucky! Now you can do twice as much work as before!\" The farmer replied: \"Good thing, Bad thing, Who knows?\"\n",
            "None\n",
            "part f - Atlest once,non space chareacters are repeated\n",
            "{One} {day}{,} {his} {horse} {ran} {away}{.} {The} {neighbors} {came} {to} {express} {their} {concern}{:} {\"}{Oh}{,} {that}{'}{s} {too} {bad}{.} {How} {are} {you} {going} {to} {work} {the} {fields} {now}{?\"} {The} {farmer} {replied}{:} {\"}{Good} {thing}{,} {Bad} {thing}{,} {Who} {knows}{?\"} {In} {a} {few} {days}{,} {his} {horse} {came} {back} {and} {brought} {another} {horse} {with} {her}{.} {Now}{,} {the} {neighbors} {were} {glad}{:} {\"}{Oh}{,} {how} {lucky}{!} {Now} {you} {can} {do} {twice} {as} {much} {work} {as} {before}{!\"} {The} {farmer} {replied}{:} {\"}{Good} {thing}{,} {Bad} {thing}{,} {Who} {knows}{?\"}\n",
            "None\n"
          ],
          "name": "stdout"
        }
      ]
    },
    {
      "metadata": {
        "id": "YBalC3QIyUQ_",
        "colab_type": "code",
        "colab": {
          "base_uri": "https://localhost:8080/",
          "height": 88
        },
        "outputId": "8474afe5-d4d7-4018-ad17-1b3abffe14be"
      },
      "cell_type": "code",
      "source": [
        "def exercise7():\n",
        "    print(\"part a\")\n",
        "    print(nltk.re_show(r'\\b(a|an|the)\\b',SimpleText))\n",
        "\n",
        "exercise7()"
      ],
      "execution_count": 17,
      "outputs": [
        {
          "output_type": "stream",
          "text": [
            "part a\n",
            "One day, his horse ran away. The neighbors came to express their concern: \"Oh, that's too bad. How are you going to work {the} fields now?\" The farmer replied: \"Good thing, Bad thing, Who knows?\" In {a} few days, his horse came back and brought another horse with her. Now, {the} neighbors were glad: \"Oh, how lucky! Now you can do twice as much work as before!\" The farmer replied: \"Good thing, Bad thing, Who knows?\"\n",
            "None\n"
          ],
          "name": "stdout"
        }
      ]
    },
    {
      "metadata": {
        "id": "lshQ_Eq9yrHp",
        "colab_type": "code",
        "colab": {}
      },
      "cell_type": "code",
      "source": [
        "def unknown(url):\n",
        "    response = request.urlopen(url)\n",
        "    raw = response.read().decode('utf8')\n",
        "    tokens = nltk.word_tokenize(raw)\n",
        "    raw_type2 = nltk.WordNetLemmatizer()\n",
        "    tokens_type2=[raw_type2.lemmatize(t) for t in tokens]\n",
        "    #extracting all substrings using lowercase letters\n",
        "    letters_lower = re.findall(r'\\b[a-z]+',raw)\n",
        "    type1_unknown_words = [w for w in letters_lower if w not in words.words()]\n",
        "    type2_unknown_words = [w for w in tokens if w not in words.words()]\n",
        "    type3_unknown_words = [w for w in tokens_type2 if w not in words.words()]\n",
        "    print(type1_unknown_words)\n",
        "    print(type2_unknown_words)\n",
        "    print(type3_unknown_words)\n",
        "    print(\"length comparison: type1- %d, type2- %d, type- %d\" % (len(type1_unknown_words), len(type2_unknown_words),len(type3_unknown_words)))\n",
        "    print(\"Above all lentghs differ in size, this is how there is difference in words because of the property of functions and attributes used.\")\n",
        "    print(\"For full explanation please refer to my write-up\")\n",
        "\n",
        "\n",
        "def exercise21():\n",
        "    print(\"This exercise will take few times to throw result.\")\n",
        "    url = \"https://www.cs.utexas.edu/~vl/notes/dijkstra.html\"\n",
        "    unknown(url)\n",
        "\n",
        "exercise21()"
      ],
      "execution_count": 0,
      "outputs": []
    },
    {
      "metadata": {
        "id": "aw9GnyVby1i1",
        "colab_type": "code",
        "colab": {
          "base_uri": "https://localhost:8080/",
          "height": 2227
        },
        "outputId": "bf8497c8-80fc-4ec8-919b-05c989614f4e"
      },
      "cell_type": "code",
      "source": [
        "def vowel_index(word):\n",
        "    for pos, alphabet in enumerate(word):\n",
        "        if alphabet in 'aeiou':\n",
        "            return pos\n",
        "    print(\"Sorry, word with no vowel\")\n",
        "\n",
        "def pig_latin(word):\n",
        "    pos = vowel_index(word)\n",
        "    print(word[pos:] + word[:pos] + 'ay')\n",
        "\n",
        "def pig_latin_sentence(SimpleText):\n",
        "    Words = SimpleText.split()\n",
        "    for word in Words:\n",
        "        pig_latin(word)\n",
        "#for quit\n",
        "def vowel_index_u(word):\n",
        "    for pos, alphabet in enumerate(word):\n",
        "        if alphabet in 'aeioy':\n",
        "            return pos\n",
        "    print(\"Sorry, word with no vowel\")\n",
        "def pig_latin_u(word):\n",
        "    pos = vowel_index_u(word)\n",
        "    print(word[pos:] + word[:pos] + 'ay')\n",
        "\n",
        "\n",
        "\n",
        "def exercise25():\n",
        "    #test any word\n",
        "    word = input(\"Enter you word for changing it to pig latin:  \")\n",
        "    pig_latin(word)\n",
        "    print(\"\\n\")\n",
        "\n",
        "    #sentence = input(\"Enter your sentence for pig latin conversion:  \")\n",
        "    print(\"Using simple text provided in document to apply pig latin to sentence:  ---\")\n",
        "    pig_latin_sentence(SimpleText)\n",
        "    print(\"\\n\")\n",
        "\n",
        "    #quit\n",
        "    print(\"For the word 'Quit' as asked output should be 'ietquay: -----\")\n",
        "    print(\"Output -\")\n",
        "    pig_latin_u('quit')#entering word quit\n",
        "    print(\"\\n\")\n",
        "\n",
        "    # 'y' as a vowel or consonent\n",
        "    #yellow\n",
        "    print(\"Testing 'y' for vowel or consonent\")\n",
        "    word_Y = input(\"Enter the word having 'y':  \")\n",
        "    if 'y' in word_Y:\n",
        "        print(word_Y)\n",
        "        if re.match(\"^[^aeiouAEIOUy]+\", word_Y):\n",
        "            print(\"vowel\")\n",
        "            pig_latin_u(word_Y)\n",
        "        else:\n",
        "            print(\"not vowel\")\n",
        "            pig_latin(word_Y)\n",
        "    #Testing with SimpleText\n",
        "    print(\"\\n\")\n",
        "    print(\"Cheking for letter 'y' in SimpleText: \")\n",
        "    print(\"Format: word, decision, output\")\n",
        "    for word in SimpleText.split():\n",
        "        if 'y' in word:\n",
        "            print(word)\n",
        "            if re.match(\"^[^aeiouAEIOUy]+\", word):\n",
        "                print(\"vowel\")\n",
        "                pig_latin_u(word)\n",
        "                print(\"\\n\")\n",
        "\n",
        "\n",
        "            else:\n",
        "                print(\"not vowel\")\n",
        "                pig_latin(word)\n",
        "                print(\"\\n\")\n",
        "\n",
        "\n",
        "\n",
        "exercise25()    "
      ],
      "execution_count": 20,
      "outputs": [
        {
          "output_type": "stream",
          "text": [
            "Enter you word for changing it to pig latin:  hello\n",
            "ellohay\n",
            "\n",
            "\n",
            "Using simple text provided in document to apply pig latin to sentence:  ---\n",
            "eOnay\n",
            "ay,day\n",
            "ishay\n",
            "orsehay\n",
            "anray\n",
            "away.ay\n",
            "eThay\n",
            "eighborsnay\n",
            "amecay\n",
            "otay\n",
            "expressay\n",
            "eirthay\n",
            "oncern:cay\n",
            "Sorry, word with no vowel\n",
            "\"Oh,\"Oh,ay\n",
            "at'sthay\n",
            "ootay\n",
            "ad.bay\n",
            "owHay\n",
            "areay\n",
            "ouyay\n",
            "oinggay\n",
            "otay\n",
            "orkway\n",
            "ethay\n",
            "ieldsfay\n",
            "ow?\"nay\n",
            "eThay\n",
            "armerfay\n",
            "eplied:ray\n",
            "ood\"Gay\n",
            "ing,thay\n",
            "adBay\n",
            "ing,thay\n",
            "oWhay\n",
            "ows?\"knay\n",
            "Sorry, word with no vowel\n",
            "InInay\n",
            "aay\n",
            "ewfay\n",
            "ays,day\n",
            "ishay\n",
            "orsehay\n",
            "amecay\n",
            "ackbay\n",
            "anday\n",
            "oughtbray\n",
            "anotheray\n",
            "orsehay\n",
            "ithway\n",
            "er.hay\n",
            "ow,Nay\n",
            "ethay\n",
            "eighborsnay\n",
            "ereway\n",
            "ad:glay\n",
            "Sorry, word with no vowel\n",
            "\"Oh,\"Oh,ay\n",
            "owhay\n",
            "ucky!lay\n",
            "owNay\n",
            "ouyay\n",
            "ancay\n",
            "oday\n",
            "icetway\n",
            "asay\n",
            "uchmay\n",
            "orkway\n",
            "asay\n",
            "efore!\"bay\n",
            "eThay\n",
            "armerfay\n",
            "eplied:ray\n",
            "ood\"Gay\n",
            "ing,thay\n",
            "adBay\n",
            "ing,thay\n",
            "oWhay\n",
            "ows?\"knay\n",
            "\n",
            "\n",
            "For the word 'Quit' as asked output should be 'ietquay: -----\n",
            "Output -\n",
            "itquay\n",
            "\n",
            "\n",
            "Testing 'y' for vowel or consonent\n",
            "Enter the word having 'y':  Anyday\n",
            "Anyday\n",
            "not vowel\n",
            "ayAnyday\n",
            "\n",
            "\n",
            "Cheking for letter 'y' in SimpleText: \n",
            "Format: word, decision, output\n",
            "day,\n",
            "vowel\n",
            "ay,day\n",
            "\n",
            "\n",
            "away.\n",
            "not vowel\n",
            "away.ay\n",
            "\n",
            "\n",
            "you\n",
            "not vowel\n",
            "ouyay\n",
            "\n",
            "\n",
            "days,\n",
            "vowel\n",
            "ays,day\n",
            "\n",
            "\n",
            "lucky!\n",
            "vowel\n",
            "y!luckay\n",
            "\n",
            "\n",
            "you\n",
            "not vowel\n",
            "ouyay\n",
            "\n",
            "\n"
          ],
          "name": "stdout"
        }
      ]
    },
    {
      "metadata": {
        "id": "Gmp5JjlS1t2M",
        "colab_type": "text"
      },
      "cell_type": "markdown",
      "source": [
        "1.\tWh-words in English are used in questions, relative clauses and exclamations. Consider the set of wh-words to consist exactly of the following members: what, where, when, which, who, whom, whose, why. \n",
        "a)\tReport how many wh-words occurred in text2.  \n",
        "b)\tRepeat the exercise for text7. Report how many wh-words occurred in text 7.\n"
      ]
    },
    {
      "metadata": {
        "id": "4hMiQt4i2Fea",
        "colab_type": "code",
        "colab": {
          "base_uri": "https://localhost:8080/",
          "height": 119
        },
        "outputId": "5938a9a7-dbd9-4528-e1f0-2323475d1d9b"
      },
      "cell_type": "code",
      "source": [
        "SimpleText = 'One day, his horse ran away. The neighbors came to express their concern: \"Oh, that\\'s too bad. How are you going to work the fields now?\" The farmer replied: \"Good thing, Bad thing, Who knows?\" In a few days, his horse came back and brought another horse with her. Now, the neighbors were glad: \"Oh, how lucky! Now you can do twice as much work as before!\" The farmer replied: \"Good thing, Bad thing, Who knows?\"'\n",
        "\n",
        "print(\"\\n\")\n",
        "def exercise():\n",
        "    fdist = FreqDist(text2)\n",
        "    gdist = FreqDist(text7)\n",
        "    modals = ['what','when','where','who','why','whom','which','whose']\n",
        "    print(\"For text2: \")\n",
        "    for m in modals:\n",
        "        print(m + ':', fdist[m], end=' ')\n",
        "    print(\"\")\n",
        "    print(\"For text7: \")\n",
        "    for m in modals:\n",
        "        print(m + ':', gdist[m], end=' ')\n",
        "    print(\"\")\n",
        "\n",
        "    \n",
        "exercise()    "
      ],
      "execution_count": 21,
      "outputs": [
        {
          "output_type": "stream",
          "text": [
            "\n",
            "\n",
            "For text2: \n",
            "what: 375 when: 261 where: 84 who: 260 why: 25 whom: 67 which: 592 whose: 48 \n",
            "For text7: \n",
            "what: 52 when: 77 where: 34 who: 163 why: 8 whom: 6 which: 225 whose: 14 \n"
          ],
          "name": "stdout"
        }
      ]
    },
    {
      "metadata": {
        "id": "Su1s7nIM2aaa",
        "colab_type": "code",
        "colab": {
          "base_uri": "https://localhost:8080/",
          "height": 323
        },
        "outputId": "c5f61f66-d812-419a-ed87-99232a5cd8f3"
      },
      "cell_type": "code",
      "source": [
        "def exercise29():\n",
        "    def calculation(genre):\n",
        "      letters = brown.words(categories = genre)\n",
        "      words = brown.sents(categories = genre )\n",
        "      length_letters = sum(len(letter) for letter in letters)\n",
        "      average_letters = length_letters/len(letters)\n",
        "      length_words = sum(len(word) for word in words)\n",
        "      average_words = length_words/len(words)\n",
        "      ari = (4.71*average_letters) + (0.5*average_words) - 21.43\n",
        "      return ari\n",
        "\n",
        "    for i in brown.categories():\n",
        "        print(\"%s= \" %i, calculation(i))\n",
        "    print(\"\")\n",
        "    print(\"From above chart, Comparison for lore and learned:\")\n",
        "    print(\"Conclusion: ari(learned) > ari(lore)\")\n",
        "\n",
        "exercise29()    "
      ],
      "execution_count": 22,
      "outputs": [
        {
          "output_type": "stream",
          "text": [
            "adventure=  4.0841684990890705\n",
            "belles_lettres=  10.987652885621749\n",
            "editorial=  9.471025332953673\n",
            "fiction=  4.9104735321302115\n",
            "government=  12.08430349501021\n",
            "hobbies=  8.922356393630267\n",
            "humor=  7.887805248319808\n",
            "learned=  11.926007043317348\n",
            "lore=  10.254756197101155\n",
            "mystery=  3.8335518942055167\n",
            "news=  10.176684595052684\n",
            "religion=  10.203109907301261\n",
            "reviews=  10.769699888473433\n",
            "romance=  4.34922419804213\n",
            "science_fiction=  4.978058336905399\n",
            "\n",
            "From above chart, Comparison for lore and learned:\n",
            "Conclusion: ari(learned) > ari(lore)\n"
          ],
          "name": "stdout"
        }
      ]
    },
    {
      "metadata": {
        "id": "jp7r8sWe2g67",
        "colab_type": "code",
        "colab": {
          "base_uri": "https://localhost:8080/",
          "height": 105
        },
        "outputId": "94c60e95-9979-4079-b6a3-9872f6b8837d"
      },
      "cell_type": "code",
      "source": [
        "def exercise30():\n",
        "    tokens = nltk.word_tokenize(SimpleText)\n",
        "    porter = nltk.PorterStemmer()\n",
        "    lancaster = nltk.LancasterStemmer()\n",
        "    print(\"Porter - \",[porter.stem(t) for t in tokens])\n",
        "    print(\"Lancaster - \",[lancaster.stem(t) for t in tokens])\n",
        "    print(\"\")\n",
        "    print(\"Difference: Some letters in particular word are missing i.e. is at the end of word, every vowel after the consonant is missing.\")\n",
        "\n",
        "    \n",
        "exercise30()    "
      ],
      "execution_count": 23,
      "outputs": [
        {
          "output_type": "stream",
          "text": [
            "Porter -  ['one', 'day', ',', 'hi', 'hors', 'ran', 'away', '.', 'the', 'neighbor', 'came', 'to', 'express', 'their', 'concern', ':', '``', 'Oh', ',', 'that', \"'s\", 'too', 'bad', '.', 'how', 'are', 'you', 'go', 'to', 'work', 'the', 'field', 'now', '?', \"''\", 'the', 'farmer', 'repli', ':', '``', 'good', 'thing', ',', 'bad', 'thing', ',', 'who', 'know', '?', \"''\", 'In', 'a', 'few', 'day', ',', 'hi', 'hors', 'came', 'back', 'and', 'brought', 'anoth', 'hors', 'with', 'her', '.', 'now', ',', 'the', 'neighbor', 'were', 'glad', ':', '``', 'Oh', ',', 'how', 'lucki', '!', 'now', 'you', 'can', 'do', 'twice', 'as', 'much', 'work', 'as', 'befor', '!', \"''\", 'the', 'farmer', 'repli', ':', '``', 'good', 'thing', ',', 'bad', 'thing', ',', 'who', 'know', '?', \"''\"]\n",
            "Lancaster -  ['on', 'day', ',', 'his', 'hors', 'ran', 'away', '.', 'the', 'neighb', 'cam', 'to', 'express', 'their', 'concern', ':', '``', 'oh', ',', 'that', \"'s\", 'too', 'bad', '.', 'how', 'ar', 'you', 'going', 'to', 'work', 'the', 'field', 'now', '?', \"''\", 'the', 'farm', 'reply', ':', '``', 'good', 'thing', ',', 'bad', 'thing', ',', 'who', 'know', '?', \"''\", 'in', 'a', 'few', 'day', ',', 'his', 'hors', 'cam', 'back', 'and', 'brought', 'anoth', 'hors', 'with', 'her', '.', 'now', ',', 'the', 'neighb', 'wer', 'glad', ':', '``', 'oh', ',', 'how', 'lucky', '!', 'now', 'you', 'can', 'do', 'twic', 'as', 'much', 'work', 'as', 'bef', '!', \"''\", 'the', 'farm', 'reply', ':', '``', 'good', 'thing', ',', 'bad', 'thing', ',', 'who', 'know', '?', \"''\"]\n",
            "\n",
            "Difference: Some letters in particular word are missing i.e. is at the end of word, every vowel after the consonant is missing.\n"
          ],
          "name": "stdout"
        }
      ]
    },
    {
      "metadata": {
        "id": "8de-922E2n27",
        "colab_type": "code",
        "colab": {
          "base_uri": "https://localhost:8080/",
          "height": 51
        },
        "outputId": "1825b36f-992f-4583-f3bf-9dce013f2f82"
      },
      "cell_type": "code",
      "source": [
        "def exercise40():\n",
        "    RuralText = nltk.corpus.abc.raw('rural.txt')\n",
        "    ScienceText = nltk.corpus.abc.raw('science.txt')\n",
        "\n",
        "    def calculation_type2(text_type):\n",
        "        sents = nltk.sent_tokenize(text_type) #Punkt\n",
        "        words = nltk.word_tokenize(text_type)\n",
        "        length_letters = sum(len(letter) for letter in words)\n",
        "        average_letters = length_letters / len(words)\n",
        "        length_words = sum(len(word) for word in sents)\n",
        "        average_words = length_words / len(sents)\n",
        "        ari = (4.71 * average_letters) + (0.5 * average_words) - 21.43\n",
        "        return ari\n",
        "    print(\"ari calculation for rural.txt is %f.\" %(calculation_type2(RuralText)))\n",
        "    print(\"ari calculation for science news.txt is %f.\" %(calculation_type2(ScienceText)))\n",
        "\n",
        "exercise40()    "
      ],
      "execution_count": 24,
      "outputs": [
        {
          "output_type": "stream",
          "text": [
            "ari calculation for rural.txt is 68.570028.\n",
            "ari calculation for science news.txt is 68.815352.\n"
          ],
          "name": "stdout"
        }
      ]
    }
  ]
}