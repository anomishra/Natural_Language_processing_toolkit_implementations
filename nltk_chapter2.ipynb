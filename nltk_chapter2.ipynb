{
  "nbformat": 4,
  "nbformat_minor": 0,
  "metadata": {
    "colab": {
      "name": "nltk_chapter2.ipynb",
      "version": "0.3.2",
      "provenance": []
    },
    "kernelspec": {
      "name": "python3",
      "display_name": "Python 3"
    },
    "accelerator": "TPU"
  },
  "cells": [
    {
      "metadata": {
        "id": "6N3NAccUwqJi",
        "colab_type": "code",
        "colab": {}
      },
      "cell_type": "code",
      "source": [
        "import nltk\n",
        "nltk.download()"
      ],
      "execution_count": 0,
      "outputs": []
    },
    {
      "metadata": {
        "id": "Q0zJE539xZuv",
        "colab_type": "code",
        "colab": {
          "base_uri": "https://localhost:8080/",
          "height": 238
        },
        "outputId": "34bffde6-6caf-4cee-dfbc-e5074c856bd6"
      },
      "cell_type": "code",
      "source": [
        "import nltk, re, pprint\n",
        "import string\n",
        "\n",
        "from nltk import book\n",
        "from nltk.book import *\n",
        "from nltk.corpus import gutenberg\n",
        "from nltk.corpus import brown\n",
        "from nltk.corpus import wordnet as wn\n",
        "from nltk.corpus import stopwords\n",
        "from nltk.tokenize import RegexpTokenizer\n",
        "from nltk import word_tokenize"
      ],
      "execution_count": 3,
      "outputs": [
        {
          "output_type": "stream",
          "text": [
            "*** Introductory Examples for the NLTK Book ***\n",
            "Loading text1, ..., text9 and sent1, ..., sent9\n",
            "Type the name of the text or sentence to view it.\n",
            "Type: 'texts()' or 'sents()' to list the materials.\n",
            "text1: Moby Dick by Herman Melville 1851\n",
            "text2: Sense and Sensibility by Jane Austen 1811\n",
            "text3: The Book of Genesis\n",
            "text4: Inaugural Address Corpus\n",
            "text5: Chat Corpus\n",
            "text6: Monty Python and the Holy Grail\n",
            "text7: Wall Street Journal\n",
            "text8: Personals Corpus\n",
            "text9: The Man Who Was Thursday by G . K . Chesterton 1908\n"
          ],
          "name": "stdout"
        }
      ]
    },
    {
      "metadata": {
        "id": "wSt6KFA9xfn9",
        "colab_type": "code",
        "colab": {
          "base_uri": "https://localhost:8080/",
          "height": 68
        },
        "outputId": "0a16fb87-e07f-45dc-bc2b-c5f3dc225e6e"
      },
      "cell_type": "code",
      "source": [
        "\n",
        "print(\"\\n\")\n",
        "def lexical_diversity(text):\n",
        "    return len(text) / len(set(text))\n",
        "\n",
        "def exercise2():\n",
        "    token = gutenberg.words('austen-persuasion.txt')\n",
        "    print(\"This book has %d word tokens and %d word types.\" % (len(token), len(set(token))))\n",
        "\n",
        "exercise2()    "
      ],
      "execution_count": 4,
      "outputs": [
        {
          "output_type": "stream",
          "text": [
            "\n",
            "\n",
            "This book has 98171 word tokens and 6132 word types.\n"
          ],
          "name": "stdout"
        }
      ]
    },
    {
      "metadata": {
        "id": "elmMZ3Jjxtvc",
        "colab_type": "code",
        "colab": {}
      },
      "cell_type": "code",
      "source": [
        "def meronym_holonym():\n",
        "    syn = input(\"Enter the word for checking holonym-meronym relation: \")\n",
        "    print(wn.synsets(str(syn)))\n",
        "    word= input(\"Enter the synset for the word you got: \")\n",
        "    print(\"\")\n",
        "    print(\"Checking for meronym: \")\n",
        "    print(wn.synset(str(word)).part_meronyms())\n",
        "    print(wn.synset(str(word)).substance_meronyms())\n",
        "    print(wn.synset(str(word)).member_meronyms())\n",
        "    print(\"Checking for holonym: \")\n",
        "    print(wn.synset(str(word)).part_holonyms())\n",
        "    print(wn.synset(str(word)).substance_holonyms())\n",
        "    print(wn.synset(str(word)).member_holonyms())\n",
        "\n",
        "\n",
        "def findWholeWord(word_o):\n",
        "    return re.compile(r'\\b({0})\\b'.format(word_o), flags=re.IGNORECASE).search\n",
        "\n",
        "def check():\n",
        "    word_o = str(input('Enter the word you want to pair example-trunk for tree, hence input any (type-trunk) : '))\n",
        "    if findWholeWord(word_o)(str(meronym_holonym())) is True:\n",
        "        print(\"not valid\")\n",
        "    else:\n",
        "        print(\"valid\")\n",
        "\n",
        "def exercise5():\n",
        "    check()\n",
        "exercise5()"
      ],
      "execution_count": 0,
      "outputs": []
    },
    {
      "metadata": {
        "id": "YBalC3QIyUQ_",
        "colab_type": "code",
        "colab": {
          "base_uri": "https://localhost:8080/",
          "height": 2553
        },
        "outputId": "0a88108a-dd2f-45d7-ff51-4553583478b4"
      },
      "cell_type": "code",
      "source": [
        "def exercise9():\n",
        "    print(\"Comparison in text1 and text7:\")\n",
        "    print(\"text1 - tokens=%d, wordtypes=%d, lexical-diversity=%f\" %(len(text1),len(set(text1)),lexical_diversity(text1)))\n",
        "    print(\"text7 - tokens=%d, wordtypes=%d, lexical-diversity=%f\" % (len(text7), len(set(text7)), lexical_diversity(text7)))\n",
        "    print(\"\")\n",
        "    print(\"See the words used in text1 and text7 by using the command FreqDist(sorted(text)) and choose them or most common to see the words have different meanings\")\n",
        "    print(\"\")\n",
        "    print(\"I chose the word 'Bright', 'little', and 'company' by most_common method.\")\n",
        "    print(\"for text1:\",text1.concordance('bright'))\n",
        "    print(\"for text7:\",text7.concordance('bright'))\n",
        "    print(\"for text1:\",text1.concordance('little'))\n",
        "    print(\"for text7:\",text7.concordance('little'))\n",
        "    print(\"for text1:\",text1.concordance('company'))\n",
        "    print(\"for text7:\",text7.concordance('company'))\n",
        "    print(\"\\nNow see the different meanings in the sentence and compare the context.\")\n",
        "\n",
        "exercise9()"
      ],
      "execution_count": 8,
      "outputs": [
        {
          "output_type": "stream",
          "text": [
            "Comparison in text1 and text7:\n",
            "text1 - tokens=260819, wordtypes=19317, lexical-diversity=13.502045\n",
            "text7 - tokens=100676, wordtypes=12408, lexical-diversity=8.113798\n",
            "\n",
            "See the words used in text1 and text7 by using the command FreqDist(sorted(text)) and choose them or most common to see the words have different meanings\n",
            "\n",
            "I chose the word 'Bright', 'little', and 'company' by most_common method.\n",
            "Displaying 25 of 25 matches:\n",
            "ds .\" -- FALCONER ' S SHIPWRECK . \" Bright shone the roofs , the domes , the s\n",
            "ht , The wind was piping free ; Now bright , now dimmed , was the moonlight pa\n",
            "jolly there . Further on , from the bright red windows of the \" Sword - Fish I\n",
            "us painting meant . Ever and anon a bright , but , alas , deceptive idea would\n",
            "ict of New Bedford has superinduced bright terraces of flowers upon the barren\n",
            " forth an angel ' s face ; and this bright face shed a distinct spot of radian\n",
            "radiant dolphin borne ; Awful , yet bright , as lightning shone The face of my\n",
            "Pequod now went rolling through the bright Quito spring , which , at sea , alm\n",
            "k in a ship ' s hull , called the \" bright waist ,\" that line streaks him from\n",
            "nce of gold ?\"-- holding up a broad bright coin to the sun --\" it is a sixteen\n",
            " Iron Crown of Lombardy . Yet is it bright with many a gem ; I the wearer , se\n",
            "eads and admonishing them to keep a bright look - out , and not omit reporting\n",
            "he Pole with the revolutions of the bright points that first defined him to me\n",
            "mpulse , in a superb lofty arch the bright steel spans the foaming distance , \n",
            "g in a symmetrical folded bulb of a bright red colour . Upon her head boards ,\n",
            "nder - hearted , was at bottom very bright , with that pleasant , genial , jol\n",
            "the natural sun , the skies will be bright ; those who glared like devils in t\n",
            "ychosis ! Oh ! Pythagoras , that in bright Greece , two thousand years ago , d\n",
            "BLICA DEL ECUADOR : QUITO . So this bright coin came from a country planted in\n",
            "dy soil ; but if we lift them , the bright sun meets our glance half way , to \n",
            "her bowsprit , he turned to eye the bright sun ' s rays produced ahead ; and w\n",
            "that its other side , the theoretic bright one , seems but uncertain twilight \n",
            "on God . By the green land ; by the bright hearth - stone ! this is the magic \n",
            "is steady wake ; and on either hand bright bubbles arose and danced by his sid\n",
            "then flowed so wide away -- on each bright side , the whale shed off enticings\n",
            "for text1: None\n",
            "Displaying 2 of 2 matches:\n",
            "only because many bad movies have a bright spot , and this one has Gregory Pec\n",
            " out of 10 , '' he adds *T*-1 . One bright sign is that a growing number of wo\n",
            "for text7: None\n",
            "Displaying 25 of 249 matches:\n",
            ". \" If you should write a fable for little fishes , you would make them speak \n",
            "glected , or should have excited so little curiosity among the numerous , and \n",
            "r mind how long precisely -- having little or no money in my purse , and nothi\n",
            "re , I thought I would sail about a little and see the watery part of the worl\n",
            ", at the same time that the leaders little suspect it . But wherefore it was t\n",
            "circumstances , I think I can see a little into the springs and motives which \n",
            "disappointed upon learning that the little packet for Nantucket had already sa\n",
            " , too , did that first adventurous little sloop put forth , partly laden with\n",
            " quiet enough , and the dilapidated little wooden house itself looked as if it\n",
            "e crannies though , and thrust in a little lint here and there . But it ' s to\n",
            "and especially by throwing open the little window towards the back of the entr\n",
            "indeed they called him ), bustles a little withered old man , who , for their \n",
            "uth -- the bar -- when the wrinkled little old Jonah , there officiating , soo\n",
            "erned ), I will here venture upon a little description of him . He stood full \n",
            "began to congratulate myself upon a little plan that had occurred to me just p\n",
            " space against the wall , leaving a little interval between , for my back to s\n",
            " long sarmon for a chap that rips a little now and then . But be easy , be eas\n",
            "it up , Sal used to put our Sam and little Johnny in the foot of it . But I go\n",
            " mat , ornamented at the edges with little tinkling tags something like the st\n",
            " shaggy and thick , and I thought a little damp , as though this mysterious ha\n",
            "en took off my coat , and thought a little more in my shirt sleeves . But begi\n",
            " , and produced at length a curious little deformed image with a hunch on its \n",
            "papered fire - board , sets up this little hunch - backed image , like a tenpi\n",
            "ire - place made a very appropriate little shrine or chapel for his Congo idol\n",
            "en blowing off the heat and ashes a little , he made a polite offer of it to t\n",
            "for text1: None\n",
            "Displaying 25 of 28 matches:\n",
            "Latin American nation has paid very little on its debt since early last year .\n",
            "bsessed with * refitting Chaplin 's Little Tramp in a contemporary way . In 19\n",
            "ess person . So would *?* *T*-1 the Little Tramp , for that matter . I say `` \n",
            " drearier when he has *-1 to tuck a little girl into one of them at night *T*-\n",
            "ead chopped *-2 off . There is very little 0 *T*-1 to recommend `` Old Gringo \n",
            "ese nations , known * as Asia 's `` little tigers , '' also are contributing t\n",
            "hard at what we do *T*-101 for damn little pay , and what she did *T*-1 cast u\n",
            "ore lucrative private practice with little fanfare , but not federal Judge Rau\n",
            "S. recede . The market again showed little interest in further evidence of a s\n",
            "ecting the Fed to ease sooner and a little more than it has *?* to date , '' s\n",
            "y good returns in Economic news had little effect on financial markets . As * \n",
            "s 0 both sides can trust *T*-2 . `` Little by little , there is progress , '' \n",
            "ides can trust *T*-2 . `` Little by little , there is progress , '' says *T*-1\n",
            "e done this in public '' because so little sensitive information was disclosed\n",
            "some . This democracy is suddenly a little more democratic . I feel pretty goo\n",
            "ted . `` New managers would think a little more like Wall Street , '' Mr. McMi\n",
            " meanwhile , farmers who *T*-43 had little or no loss of production profited g\n",
            "ance . Even with mutual funds , the little investor continues *-1 to tolerate \n",
            "n the interests of * protecting the little guy , and he invariably is the one \n",
            " benefits or the bottom line are of little relevance . `` The Superdome is an \n",
            "ed 0 *T*-1 . Sales , however , were little changed *-1 at 2.46 billion guilder\n",
            "d in Hong Kong , lower in Seoul and little changed in Sydney . Manila markets \n",
            "ate October appears *-1 to have had little or no effect on consumers , '' said\n",
            " in yesterday 's market report . `` Little wonder that buyers for junk have be\n",
            "est German dealers said 0 there was little interest in Treasury bonds ahead of\n",
            "for text7: None\n",
            "Displaying 25 of 33 matches:\n",
            "ed before I did . Supper over , the company went back to the bar - room , when \n",
            "d ship keepers ; a brown and brawny company , with bosky beards ; an unshorn , \n",
            " manner , quite self - possessed in company . Not always , though : Ledyard , t\n",
            "e respective duties of the ship ' s company . I was also aware that being a gre\n",
            "on enrolled among the same ship ' s company to which I myself belonged . When a\n",
            " at all the inns where the ship ' s company were stopping , that their chests m\n",
            "s merits , were he presented to the company as a harpooneer , say ; and if in e\n",
            "s for the residue of the Pequod ' s company , be it said , that at the present \n",
            "al housekeepers , in the absence of company , and quite alone by themselves , b\n",
            "nity of interest prevailing among a company , all of whom , high or low , depen\n",
            "me down !\" When the entire ship ' s company were assembled , and with curious a\n",
            "nces , and the rest of the ship ' s company formed a circle round the group ; h\n",
            " . While yet the wondering ship ' s company were gazing upon these strangers , \n",
            "s amazement in some of the ship ' s company ; but Archy ' s fancied discovery h\n",
            "oncern manifested by several of her company ; especially by Radney the mate . H\n",
            "nt ! Pardon !' cried another of the company . ' In the name of all us Limeese ,\n",
            " some other harbor . \" The ship ' s company being reduced to but a handful , th\n",
            "Don Sebastian ' s suit ,' cried the company , with exceeding interest . \"' Is t\n",
            " ' s in Lima now ,' said one of the company to another ; ' I fear our sailor fr\n",
            "hen under the feet of Korah and his company the live ground opened and swallowe\n",
            "fearful of infecting the Pequod ' s company . For , though himself and boat ' s\n",
            "togged scaramouch the Town - Ho ' s company told us of !\" Stubb here alluded to\n",
            "ity was now merged in a joint stock company of two ; that my free will had rece\n",
            "high elevated above the rest of the company , to whom he vivaciously cries -- h\n",
            " not the knights of that honourable company ( none of whom , I venture to say ,\n",
            "for text1: None\n",
            "Displaying 25 of 260 matches:\n",
            "ith the filters were sold *-3 , the company said 0 *T*-1 . Among 33 men who *T*\n",
            " % interest in this energy-services company , was elected *-10 a director . He \n",
            "12 million *U* . The thrift holding company said 0 it expects *-1 to obtain reg\n",
            "a is an Italian state-owned holding company with interests in the mechanical en\n",
            "l , that it 's a good place 0 for a company to expand *T*-1 . On the receiving \n",
            "hich it would remain an independent company *T*-2 . New England Electric , base\n",
            "f New England Electric , said 0 the company 's return on equity could suffer if\n",
            "k factors '' that *T*-17 led to the company 's decision * to withdraw from the \n",
            "e financial adviser to the troubled company 's equity holders , said 0 the with\n",
            "ntrol products in South Korea , the company said 0 *T*-1 . The plant will produ\n",
            " Not only is development of the new company 's initial machine tied *-1 directl\n",
            " for the Cray-3 so far , though the company says 0 it is talking with several p\n",
            "l complicate a valuation of the new company . `` It has *-2 to be considered *-\n",
            "er risk factors for Mr. Cray 's new company include the Cray-3 's tricky , unpr\n",
            "NEC Corp. and Fujitsu Ltd . The new company said 0 it believes 0 there are fewe\n",
            "arch and development expenses , the company would have been able *-2 to report \n",
            " the new Colorado Springs , Colo. , company as an independent contractor -- the\n",
            "um , other senior management at the company includes Neil Davenport , 47 , pres\n",
            "nt of this electric-utility holding company . Arthur A. Hatch , 59 , was named \n",
            "-28 executive vice president of the company . He was previously president of th\n",
            " He was previously president of the company 's Eastern Edison Co. unit . John D\n",
            "Co. , an Australian pharmaceuticals company , said 0 its Moleculon Inc. affilia\n",
            "ive-parts manufacturer around , the company said 0 *T*-2 . Mr. Stronach will di\n",
            "ve industry enters a downturn . The company has reported declines in operating \n",
            " quarterly dividend in half and the company 's Class A shares are wallowing far\n",
            "for text7: None\n",
            "\n",
            "Now see the different meanings in the sentence and compare the context.\n"
          ],
          "name": "stdout"
        }
      ]
    },
    {
      "metadata": {
        "id": "lshQ_Eq9yrHp",
        "colab_type": "code",
        "colab": {
          "base_uri": "https://localhost:8080/",
          "height": 170
        },
        "outputId": "72b77be0-5a22-4d7a-cbc7-b2b7f58f87cb"
      },
      "cell_type": "code",
      "source": [
        "def exercise11():\n",
        "    var = nltk.ConditionalFreqDist((genre,word) for genre in brown.categories() for word in brown.words(categories=genre))\n",
        "    genres = ['editorial','reviews','lore','belles_lettres','mystery','government']\n",
        "    modals = ['what','when','where','who','why','how']\n",
        "    var.tabulate(samples=modals, conditions=genres)\n",
        "    print(\"By the chart, belles_lettres have more use of 'where' & 'when' and reviews has the least counts of modal.\")\n",
        "    print(\"By the chart, I can predict that 'government' and 'reviews' has less questioning sentences.\")\n",
        "\n",
        "exercise11()"
      ],
      "execution_count": 9,
      "outputs": [
        {
          "output_type": "stream",
          "text": [
            "                what  when where   who   why   how \n",
            "     editorial    84   103    40   172    10    43 \n",
            "       reviews    44    54    25   128     9    26 \n",
            "          lore   130   182    97   259    25    65 \n",
            "belles_lettres   244   252   107   452    36    96 \n",
            "       mystery   109   114    59    80    25    37 \n",
            "    government    43    56    46    74     6    16 \n",
            "By the chart, belles_lettres have more use of 'where' & 'when' and reviews has the least counts of modal.\n",
            "By the chart, I can predict that 'government' and 'reviews' has less questioning sentences.\n"
          ],
          "name": "stdout"
        }
      ]
    },
    {
      "metadata": {
        "id": "aw9GnyVby1i1",
        "colab_type": "code",
        "colab": {
          "base_uri": "https://localhost:8080/",
          "height": 68
        },
        "outputId": "9d156907-b0b7-40df-aeb4-876de0c7349c"
      },
      "cell_type": "code",
      "source": [
        "def exercise13():\n",
        "    noun = list(wn.all_synsets('n'))\n",
        "    print(\"The total length of the list with all noun is %d.\" %len(noun))\n",
        "    no_hyp = [w for w in noun if len((w.hyponyms()))==0]\n",
        "    print(\"The length of noun with no hyponyms is %d.\"%(len(no_hyp)))\n",
        "    print(\"the percentage of the noun with no hyponyms is %f.\" %(len(no_hyp)/len(noun)))\n",
        "\n",
        "exercise13()    "
      ],
      "execution_count": 10,
      "outputs": [
        {
          "output_type": "stream",
          "text": [
            "The total length of the list with all noun is 82115.\n",
            "The length of noun with no hyponyms is 65422.\n",
            "the percentage of the noun with no hyponyms is 0.796712.\n"
          ],
          "name": "stdout"
        }
      ]
    },
    {
      "metadata": {
        "id": "pe4AzcJEy-7S",
        "colab_type": "code",
        "colab": {
          "base_uri": "https://localhost:8080/",
          "height": 54
        },
        "outputId": "ea21b246-2339-42e2-ab64-1d9bf7b36dc3"
      },
      "cell_type": "code",
      "source": [
        "def exercise18():\n",
        "    stopwords = nltk.corpus.stopwords.words('english')\n",
        "    text = ['.', ',', '\"', \"'\", '?', '!', ':', ';', '(', ')', '[', ']', '{', '}']\n",
        "    stop_words_1= stopwords.append(text)\n",
        "    test = nltk.bigrams((brown.words(categories='news')))\n",
        "    content = [var for var in test if var[0] not in stopwords and var[1] not in stopwords and any(var1.isalpha() for var1 in var[0]) and any(var1.isalpha() for var1 in var[1])]\n",
        "    output = FreqDist(content).most_common(50)\n",
        "    print(output)\n",
        "\n",
        "exercise18()"
      ],
      "execution_count": 11,
      "outputs": [
        {
          "output_type": "stream",
          "text": [
            "[(('New', 'York'), 52), (('per', 'cent'), 50), (('United', 'States'), 37), (('last', 'year'), 31), (('White', 'House'), 29), (('last', 'week'), 29), (('He', 'said'), 23), (('home', 'runs'), 23), (('U.', 'S.'), 20), (('President', 'Kennedy'), 19), (('The', 'President'), 18), (('last', 'night'), 17), (('years', 'ago'), 15), (('I', 'think'), 15), (('San', 'Francisco'), 15), (('Mr.', 'Kennedy'), 14), (('anti-trust', 'laws'), 14), (('Premier', 'Khrushchev'), 13), (('Kansas', 'City'), 13), (('high', 'school'), 12), (('Los', 'Angeles'), 12), (('United', 'Nations'), 11), (('New', 'Orleans'), 11), (('High', 'School'), 10), (('vice', 'president'), 10), (('sales', 'tax'), 10), (('The', 'first'), 10), (('Mrs.', 'Robert'), 10), (('Mrs.', 'John'), 10), (('American', 'Catholic'), 10), (('The', 'jury'), 9), (('He', 'also'), 9), (('El', 'Paso'), 9), (('In', 'addition'), 9), (('first', 'time'), 9), (('Mr.', 'Hawksley'), 9), (('Rules', 'Committee'), 9), (('Mr.', 'Khrushchev'), 9), (('Air', 'Force'), 9), (('tax', 'bill'), 9), (('two', 'years'), 9), (('would', 'like'), 8), (('The', 'new'), 8), (('Rhode', 'Island'), 8), (('St.', 'Louis'), 8), (('social', 'security'), 8), (('weeks', 'ago'), 8), (('home', 'run'), 8), (('police', 'said'), 8), (('higher', 'education'), 8)]\n"
          ],
          "name": "stdout"
        }
      ]
    },
    {
      "metadata": {
        "id": "SuEeJyZ9zJfN",
        "colab_type": "code",
        "colab": {
          "base_uri": "https://localhost:8080/",
          "height": 119
        },
        "outputId": "81692894-c7d5-4b3e-c898-1fe2118d2ad4"
      },
      "cell_type": "code",
      "source": [
        "def noun():\n",
        "    count = 0\n",
        "    for synset in wn.synsets('dog', wn.NOUN):\n",
        "        words = len(synset.lemma_names())\n",
        "        count = count + words\n",
        "    return(count)\n",
        "def verb():\n",
        "    count = 0\n",
        "    for synset in wn.synsets('dog', wn.VERB):\n",
        "        words = len(synset.lemma_names())\n",
        "        count = count + words\n",
        "    return(count)\n",
        "def adverb():\n",
        "    count = 0\n",
        "    for synset in wn.synsets('dog', wn.ADV):\n",
        "        words = len(synset.lemma_names())\n",
        "        count = count + words\n",
        "    return(count)\n",
        "def adjective():\n",
        "    count = 0\n",
        "    for synset in wn.synsets('dog', wn.ADJ):\n",
        "        words = len(synset.lemma_names())\n",
        "        count = count + words\n",
        "    return(count)\n",
        "\n",
        "def exercise27():\n",
        "    total = noun()+verb()+adjective()+adverb()\n",
        "    print(\"Total lemma counts for the word 'dog' is %d.\" %total)\n",
        "    print(\"Average polysemy of all parts for the word 'dog is:  \")\n",
        "    print(\"Nouns: %f\" %(noun()/total))\n",
        "    print(\"Adjective: %f\" %(adjective()/total))\n",
        "    print(\"Adverb: %f\" % (adverb() / total))\n",
        "    print(\"Verb: %f\" % (verb() / total))\n",
        "\n",
        "exercise27()"
      ],
      "execution_count": 12,
      "outputs": [
        {
          "output_type": "stream",
          "text": [
            "Total lemma counts for the word 'dog' is 37.\n",
            "Average polysemy of all parts for the word 'dog is:  \n",
            "Nouns: 0.756757\n",
            "Adjective: 0.000000\n",
            "Adverb: 0.000000\n",
            "Verb: 0.243243\n"
          ],
          "name": "stdout"
        }
      ]
    }
  ]
}